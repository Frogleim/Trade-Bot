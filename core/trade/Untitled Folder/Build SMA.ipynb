{
 "cells": [
  {
   "cell_type": "code",
   "execution_count": 9,
   "id": "719b0d91",
   "metadata": {},
   "outputs": [
    {
     "name": "stdout",
     "output_type": "stream",
     "text": [
      "SMA (Close, 20) for 15-minute interval: 2224.746\n"
     ]
    }
   ],
   "source": [
    "import pandas as pd\n",
    "import pandas_ta as ta\n",
    "from binance.client import Client\n",
    "\n",
    "# Replace with your Binance API key and secret\n",
    "api_key = 'YOUR_API_KEY'\n",
    "api_secret = 'YOUR_API_SECRET'\n",
    "\n",
    "client = Client(api_key, api_secret)\n",
    "\n",
    "symbol = 'ETHUSDT'\n",
    "interval = '15m'  # Use '15m' for 15-minute intervals\n",
    "\n",
    "# Fetch historical klines data\n",
    "klines = client.futures_klines(symbol=symbol, interval=interval)\n",
    "\n",
    "# Extract close prices from klines\n",
    "close_prices = [float(kline[4]) for kline in klines]\n",
    "\n",
    "# Create a DataFrame\n",
    "df = pd.DataFrame({'close': close_prices})\n",
    "\n",
    "# Calculate 15-minute SMA using pandas_ta\n",
    "length = 20\n",
    "df['sma'] = ta.sma(df['close'], length=length)\n",
    "\n",
    "# Display the last value of SMA\n",
    "sma_value = df['sma'].iloc[-1]\n",
    "\n",
    "print(f'SMA (Close, 20) for 15-minute interval: {sma_value}')\n"
   ]
  },
  {
   "cell_type": "code",
   "execution_count": null,
   "id": "fc177615",
   "metadata": {},
   "outputs": [],
   "source": []
  }
 ],
 "metadata": {
  "kernelspec": {
   "display_name": "Python 3 (ipykernel)",
   "language": "python",
   "name": "python3"
  },
  "language_info": {
   "codemirror_mode": {
    "name": "ipython",
    "version": 3
   },
   "file_extension": ".py",
   "mimetype": "text/x-python",
   "name": "python",
   "nbconvert_exporter": "python",
   "pygments_lexer": "ipython3",
   "version": "3.11.5"
  }
 },
 "nbformat": 4,
 "nbformat_minor": 5
}
