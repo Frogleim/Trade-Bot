{
 "cells": [
  {
   "cell_type": "code",
   "execution_count": 4,
   "id": "10fd02a7",
   "metadata": {},
   "outputs": [
    {
     "name": "stdout",
     "output_type": "stream",
     "text": [
      "                       close        rsi rsi_signal\n",
      "timestamp                                         \n",
      "2024-01-19 13:00:00  2497.67        NaN       Hold\n",
      "2024-01-19 14:00:00  2475.47   0.000000        Buy\n",
      "2024-01-19 15:00:00  2463.66   0.000000        Buy\n",
      "2024-01-19 16:00:00  2429.11   0.000000        Buy\n",
      "2024-01-19 17:00:00  2471.78  38.361953       Hold\n",
      "...                      ...        ...        ...\n",
      "2024-01-23 12:00:00  2224.80  24.788985        Buy\n",
      "2024-01-23 13:00:00  2199.51  22.504789        Buy\n",
      "2024-01-23 14:00:00  2194.98  17.342477        Buy\n",
      "2024-01-23 15:00:00  2219.07  23.546445        Buy\n",
      "2024-01-23 16:00:00  2198.65  19.807635        Buy\n",
      "\n",
      "[100 rows x 3 columns]\n"
     ]
    }
   ],
   "source": [
    "import pandas as pd\n",
    "from binance.client import Client\n",
    "\n",
    "api_key = 'your_api_key'\n",
    "api_secret = 'your_api_secret'\n",
    "symbol = 'ETHUSDT'\n",
    "interval = Client.KLINE_INTERVAL_1HOUR  # You can change this to your desired interval\n",
    "\n",
    "client = Client(api_key, api_secret)\n",
    "\n",
    "def get_historical_data(symbol, interval, limit=100):\n",
    "    klines = client.futures_klines(symbol=symbol, interval=interval, limit=limit)\n",
    "    df = pd.DataFrame(klines, columns=['timestamp', 'open', 'high', 'low', 'close', 'volume', 'close_time', 'quote_asset_volume', 'number_of_trades', 'taker_buy_base_asset_volume', 'taker_buy_quote_asset_volume', 'ignore'])\n",
    "    df['timestamp'] = pd.to_datetime(df['timestamp'], unit='ms')\n",
    "    df.set_index('timestamp', inplace=True)\n",
    "    df['close'] = pd.to_numeric(df['close'])\n",
    "    return df\n",
    "\n",
    "def calculate_rsi(data, window=14, upper_threshold=70, lower_threshold=30):\n",
    "    # Calculate daily price changes\n",
    "    delta = data['close'].diff()\n",
    "\n",
    "    # Calculate gains (positive changes) and losses (negative changes)\n",
    "    gains = delta.where(delta > 0, 0)\n",
    "    losses = -delta.where(delta < 0, 0)\n",
    "\n",
    "    # Calculate average gains and losses over the specified window\n",
    "    avg_gains = gains.rolling(window=window, min_periods=1).mean()\n",
    "    avg_losses = losses.rolling(window=window, min_periods=1).mean()\n",
    "\n",
    "    # Calculate relative strength (RS)\n",
    "    rs = avg_gains / avg_losses\n",
    "\n",
    "    # Calculate the RSI\n",
    "    rsi = 100 - (100 / (1 + rs))\n",
    "\n",
    "    # Add RSI to the DataFrame\n",
    "    data['rsi'] = rsi\n",
    "\n",
    "    # Add signals based on upper and lower thresholds\n",
    "    data['rsi_signal'] = 'Hold'\n",
    "    data.loc[data['rsi'] > upper_threshold, 'rsi_signal'] = 'Sell'\n",
    "    data.loc[data['rsi'] < lower_threshold, 'rsi_signal'] = 'Buy'\n",
    "\n",
    "    return data\n",
    "\n",
    "if __name__ == \"__main__\":\n",
    "    historical_data = get_historical_data(symbol, interval)\n",
    "    data_with_rsi = calculate_rsi(historical_data)\n",
    "\n",
    "    # Print the DataFrame with RSI values and signals\n",
    "    print(data_with_rsi[['close', 'rsi', 'rsi_signal']])\n"
   ]
  },
  {
   "cell_type": "code",
   "execution_count": null,
   "id": "952f9696",
   "metadata": {},
   "outputs": [],
   "source": []
  }
 ],
 "metadata": {
  "kernelspec": {
   "display_name": "Python 3 (ipykernel)",
   "language": "python",
   "name": "python3"
  },
  "language_info": {
   "codemirror_mode": {
    "name": "ipython",
    "version": 3
   },
   "file_extension": ".py",
   "mimetype": "text/x-python",
   "name": "python",
   "nbconvert_exporter": "python",
   "pygments_lexer": "ipython3",
   "version": "3.10.9"
  }
 },
 "nbformat": 4,
 "nbformat_minor": 5
}
