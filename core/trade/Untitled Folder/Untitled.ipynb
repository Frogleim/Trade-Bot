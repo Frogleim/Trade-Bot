{
 "cells": [
  {
   "cell_type": "code",
   "execution_count": 38,
   "id": "3c71d19e",
   "metadata": {},
   "outputs": [
    {
     "name": "stdout",
     "output_type": "stream",
     "text": [
      "WARNING:tensorflow:From C:\\Users\\admin\\anaconda3\\Lib\\site-packages\\keras\\src\\losses.py:2976: The name tf.losses.sparse_softmax_cross_entropy is deprecated. Please use tf.compat.v1.losses.sparse_softmax_cross_entropy instead.\n",
      "\n"
     ]
    }
   ],
   "source": [
    "from binance.client import Client\n",
    "import pandas as pd\n",
    "from sklearn.linear_model import LinearRegression\n",
    "from sklearn.model_selection import train_test_split\n",
    "from sklearn.metrics import mean_squared_error\n",
    "import matplotlib.pyplot as plt\n",
    "import tensorflow as tf\n"
   ]
  },
  {
   "cell_type": "code",
   "execution_count": 37,
   "id": "393b393e",
   "metadata": {},
   "outputs": [],
   "source": [
    "api_key = 'iyJXPaZztWrimkH6V57RGvStFgYQWRaaMdaYBQHHIEv0mMY1huCmrzTbXkaBjLFh'\n",
    "api_secret = 'hmrus7zI9PW2EXqsDVovoS2cEFRVsxeETGgBf4XJInOLFcmIXKNL23alGRNRbXKI'\n",
    "client = Client(api_key, api_secret)"
   ]
  },
  {
   "cell_type": "code",
   "execution_count": 10,
   "id": "e0a20a96",
   "metadata": {},
   "outputs": [],
   "source": [
    "symbol = 'ETHUSDT'\n",
    "interval = '3m'"
   ]
  },
  {
   "cell_type": "code",
   "execution_count": 11,
   "id": "2edd1dac",
   "metadata": {},
   "outputs": [],
   "source": [
    "klines = client.get_klines(symbol=symbol, interval=interval)\n"
   ]
  },
  {
   "cell_type": "code",
   "execution_count": 12,
   "id": "f229d9ca",
   "metadata": {},
   "outputs": [],
   "source": [
    "data = pd.DataFrame(klines, columns=['timestamp', 'open', 'high', 'low', 'close', 'volume', 'close_time', 'quote_asset_volume', 'number_of_trades', 'taker_buy_base_asset_volume', 'taker_buy_quote_asset_volume', 'ignore'])\n"
   ]
  },
  {
   "cell_type": "code",
   "execution_count": 14,
   "id": "294ba877",
   "metadata": {},
   "outputs": [
    {
     "data": {
      "text/html": [
       "<div>\n",
       "<style scoped>\n",
       "    .dataframe tbody tr th:only-of-type {\n",
       "        vertical-align: middle;\n",
       "    }\n",
       "\n",
       "    .dataframe tbody tr th {\n",
       "        vertical-align: top;\n",
       "    }\n",
       "\n",
       "    .dataframe thead th {\n",
       "        text-align: right;\n",
       "    }\n",
       "</style>\n",
       "<table border=\"1\" class=\"dataframe\">\n",
       "  <thead>\n",
       "    <tr style=\"text-align: right;\">\n",
       "      <th></th>\n",
       "      <th>timestamp</th>\n",
       "      <th>open</th>\n",
       "      <th>high</th>\n",
       "      <th>low</th>\n",
       "      <th>close</th>\n",
       "      <th>volume</th>\n",
       "      <th>close_time</th>\n",
       "      <th>quote_asset_volume</th>\n",
       "      <th>number_of_trades</th>\n",
       "      <th>taker_buy_base_asset_volume</th>\n",
       "      <th>taker_buy_quote_asset_volume</th>\n",
       "      <th>ignore</th>\n",
       "    </tr>\n",
       "  </thead>\n",
       "  <tbody>\n",
       "    <tr>\n",
       "      <th>0</th>\n",
       "      <td>2023-12-10 04:27:00</td>\n",
       "      <td>2352.20000000</td>\n",
       "      <td>2352.92000000</td>\n",
       "      <td>2352.19000000</td>\n",
       "      <td>2352.91000000</td>\n",
       "      <td>158.01040000</td>\n",
       "      <td>1702182599999</td>\n",
       "      <td>371702.38934400</td>\n",
       "      <td>512</td>\n",
       "      <td>116.30640000</td>\n",
       "      <td>273598.24056000</td>\n",
       "      <td>0</td>\n",
       "    </tr>\n",
       "    <tr>\n",
       "      <th>1</th>\n",
       "      <td>2023-12-10 04:30:00</td>\n",
       "      <td>2352.91000000</td>\n",
       "      <td>2352.98000000</td>\n",
       "      <td>2352.69000000</td>\n",
       "      <td>2352.69000000</td>\n",
       "      <td>179.72040000</td>\n",
       "      <td>1702182779999</td>\n",
       "      <td>422858.22051000</td>\n",
       "      <td>585</td>\n",
       "      <td>78.15800000</td>\n",
       "      <td>183889.74183000</td>\n",
       "      <td>0</td>\n",
       "    </tr>\n",
       "    <tr>\n",
       "      <th>2</th>\n",
       "      <td>2023-12-10 04:33:00</td>\n",
       "      <td>2352.70000000</td>\n",
       "      <td>2353.56000000</td>\n",
       "      <td>2352.69000000</td>\n",
       "      <td>2353.14000000</td>\n",
       "      <td>241.26060000</td>\n",
       "      <td>1702182959999</td>\n",
       "      <td>567745.17458400</td>\n",
       "      <td>812</td>\n",
       "      <td>192.89260000</td>\n",
       "      <td>453921.70983500</td>\n",
       "      <td>0</td>\n",
       "    </tr>\n",
       "    <tr>\n",
       "      <th>3</th>\n",
       "      <td>2023-12-10 04:36:00</td>\n",
       "      <td>2353.13000000</td>\n",
       "      <td>2354.86000000</td>\n",
       "      <td>2353.13000000</td>\n",
       "      <td>2354.43000000</td>\n",
       "      <td>570.18700000</td>\n",
       "      <td>1702183139999</td>\n",
       "      <td>1342310.33783300</td>\n",
       "      <td>1228</td>\n",
       "      <td>350.90980000</td>\n",
       "      <td>826024.60992600</td>\n",
       "      <td>0</td>\n",
       "    </tr>\n",
       "    <tr>\n",
       "      <th>4</th>\n",
       "      <td>2023-12-10 04:39:00</td>\n",
       "      <td>2354.44000000</td>\n",
       "      <td>2354.79000000</td>\n",
       "      <td>2354.17000000</td>\n",
       "      <td>2354.79000000</td>\n",
       "      <td>184.50750000</td>\n",
       "      <td>1702183319999</td>\n",
       "      <td>434434.72925800</td>\n",
       "      <td>648</td>\n",
       "      <td>127.64170000</td>\n",
       "      <td>300539.23186400</td>\n",
       "      <td>0</td>\n",
       "    </tr>\n",
       "    <tr>\n",
       "      <th>...</th>\n",
       "      <td>...</td>\n",
       "      <td>...</td>\n",
       "      <td>...</td>\n",
       "      <td>...</td>\n",
       "      <td>...</td>\n",
       "      <td>...</td>\n",
       "      <td>...</td>\n",
       "      <td>...</td>\n",
       "      <td>...</td>\n",
       "      <td>...</td>\n",
       "      <td>...</td>\n",
       "      <td>...</td>\n",
       "    </tr>\n",
       "    <tr>\n",
       "      <th>495</th>\n",
       "      <td>2023-12-11 05:12:00</td>\n",
       "      <td>2245.69000000</td>\n",
       "      <td>2245.69000000</td>\n",
       "      <td>2243.65000000</td>\n",
       "      <td>2244.91000000</td>\n",
       "      <td>308.87540000</td>\n",
       "      <td>1702271699999</td>\n",
       "      <td>693378.81820500</td>\n",
       "      <td>941</td>\n",
       "      <td>129.06430000</td>\n",
       "      <td>289706.75642500</td>\n",
       "      <td>0</td>\n",
       "    </tr>\n",
       "    <tr>\n",
       "      <th>496</th>\n",
       "      <td>2023-12-11 05:15:00</td>\n",
       "      <td>2244.91000000</td>\n",
       "      <td>2245.50000000</td>\n",
       "      <td>2243.52000000</td>\n",
       "      <td>2244.27000000</td>\n",
       "      <td>401.02990000</td>\n",
       "      <td>1702271879999</td>\n",
       "      <td>900233.61345400</td>\n",
       "      <td>1051</td>\n",
       "      <td>191.96230000</td>\n",
       "      <td>430873.92992100</td>\n",
       "      <td>0</td>\n",
       "    </tr>\n",
       "    <tr>\n",
       "      <th>497</th>\n",
       "      <td>2023-12-11 05:18:00</td>\n",
       "      <td>2244.27000000</td>\n",
       "      <td>2244.81000000</td>\n",
       "      <td>2239.86000000</td>\n",
       "      <td>2239.87000000</td>\n",
       "      <td>595.10110000</td>\n",
       "      <td>1702272059999</td>\n",
       "      <td>1334365.08126800</td>\n",
       "      <td>1372</td>\n",
       "      <td>225.65270000</td>\n",
       "      <td>506021.21814100</td>\n",
       "      <td>0</td>\n",
       "    </tr>\n",
       "    <tr>\n",
       "      <th>498</th>\n",
       "      <td>2023-12-11 05:21:00</td>\n",
       "      <td>2239.87000000</td>\n",
       "      <td>2240.86000000</td>\n",
       "      <td>2236.72000000</td>\n",
       "      <td>2237.40000000</td>\n",
       "      <td>406.36500000</td>\n",
       "      <td>1702272239999</td>\n",
       "      <td>909926.75856700</td>\n",
       "      <td>1357</td>\n",
       "      <td>172.57850000</td>\n",
       "      <td>386432.78093600</td>\n",
       "      <td>0</td>\n",
       "    </tr>\n",
       "    <tr>\n",
       "      <th>499</th>\n",
       "      <td>2023-12-11 05:24:00</td>\n",
       "      <td>2237.39000000</td>\n",
       "      <td>2237.99000000</td>\n",
       "      <td>2235.20000000</td>\n",
       "      <td>2236.50000000</td>\n",
       "      <td>474.47310000</td>\n",
       "      <td>1702272419999</td>\n",
       "      <td>1061259.35668300</td>\n",
       "      <td>1090</td>\n",
       "      <td>262.70030000</td>\n",
       "      <td>587540.92016900</td>\n",
       "      <td>0</td>\n",
       "    </tr>\n",
       "  </tbody>\n",
       "</table>\n",
       "<p>500 rows × 12 columns</p>\n",
       "</div>"
      ],
      "text/plain": [
       "              timestamp           open           high            low  \\\n",
       "0   2023-12-10 04:27:00  2352.20000000  2352.92000000  2352.19000000   \n",
       "1   2023-12-10 04:30:00  2352.91000000  2352.98000000  2352.69000000   \n",
       "2   2023-12-10 04:33:00  2352.70000000  2353.56000000  2352.69000000   \n",
       "3   2023-12-10 04:36:00  2353.13000000  2354.86000000  2353.13000000   \n",
       "4   2023-12-10 04:39:00  2354.44000000  2354.79000000  2354.17000000   \n",
       "..                  ...            ...            ...            ...   \n",
       "495 2023-12-11 05:12:00  2245.69000000  2245.69000000  2243.65000000   \n",
       "496 2023-12-11 05:15:00  2244.91000000  2245.50000000  2243.52000000   \n",
       "497 2023-12-11 05:18:00  2244.27000000  2244.81000000  2239.86000000   \n",
       "498 2023-12-11 05:21:00  2239.87000000  2240.86000000  2236.72000000   \n",
       "499 2023-12-11 05:24:00  2237.39000000  2237.99000000  2235.20000000   \n",
       "\n",
       "             close        volume     close_time quote_asset_volume  \\\n",
       "0    2352.91000000  158.01040000  1702182599999    371702.38934400   \n",
       "1    2352.69000000  179.72040000  1702182779999    422858.22051000   \n",
       "2    2353.14000000  241.26060000  1702182959999    567745.17458400   \n",
       "3    2354.43000000  570.18700000  1702183139999   1342310.33783300   \n",
       "4    2354.79000000  184.50750000  1702183319999    434434.72925800   \n",
       "..             ...           ...            ...                ...   \n",
       "495  2244.91000000  308.87540000  1702271699999    693378.81820500   \n",
       "496  2244.27000000  401.02990000  1702271879999    900233.61345400   \n",
       "497  2239.87000000  595.10110000  1702272059999   1334365.08126800   \n",
       "498  2237.40000000  406.36500000  1702272239999    909926.75856700   \n",
       "499  2236.50000000  474.47310000  1702272419999   1061259.35668300   \n",
       "\n",
       "     number_of_trades taker_buy_base_asset_volume  \\\n",
       "0                 512                116.30640000   \n",
       "1                 585                 78.15800000   \n",
       "2                 812                192.89260000   \n",
       "3                1228                350.90980000   \n",
       "4                 648                127.64170000   \n",
       "..                ...                         ...   \n",
       "495               941                129.06430000   \n",
       "496              1051                191.96230000   \n",
       "497              1372                225.65270000   \n",
       "498              1357                172.57850000   \n",
       "499              1090                262.70030000   \n",
       "\n",
       "    taker_buy_quote_asset_volume ignore  \n",
       "0                273598.24056000      0  \n",
       "1                183889.74183000      0  \n",
       "2                453921.70983500      0  \n",
       "3                826024.60992600      0  \n",
       "4                300539.23186400      0  \n",
       "..                           ...    ...  \n",
       "495              289706.75642500      0  \n",
       "496              430873.92992100      0  \n",
       "497              506021.21814100      0  \n",
       "498              386432.78093600      0  \n",
       "499              587540.92016900      0  \n",
       "\n",
       "[500 rows x 12 columns]"
      ]
     },
     "execution_count": 14,
     "metadata": {},
     "output_type": "execute_result"
    }
   ],
   "source": [
    "data['timestamp'] = pd.to_datetime(data['timestamp'], unit='ms')\n",
    "data"
   ]
  },
  {
   "cell_type": "code",
   "execution_count": 15,
   "id": "cc277664",
   "metadata": {},
   "outputs": [],
   "source": [
    "def calculate_sma(price_history, window_size):\n",
    "    if len(price_history) < window_size:\n",
    "        return None\n",
    "    else:\n",
    "        return sum(price_history[-window_size:]) / window_size"
   ]
  },
  {
   "cell_type": "code",
   "execution_count": 42,
   "id": "2b7b3b5c",
   "metadata": {},
   "outputs": [],
   "source": [
    "window_size = 10  # Adjust the window size as needed\n",
    "data['sma'] = data['close'].rolling(window=window_size).mean()\n"
   ]
  },
  {
   "cell_type": "code",
   "execution_count": 43,
   "id": "77e7291d",
   "metadata": {
    "scrolled": true
   },
   "outputs": [
    {
     "name": "stdout",
     "output_type": "stream",
     "text": [
      "              timestamp           open           high            low  \\\n",
      "9   2023-12-10 04:54:00  2354.24000000  2354.50000000  2353.96000000   \n",
      "10  2023-12-10 04:57:00  2354.50000000  2354.62000000  2354.49000000   \n",
      "11  2023-12-10 05:00:00  2354.62000000  2355.02000000  2353.87000000   \n",
      "12  2023-12-10 05:03:00  2353.87000000  2353.88000000  2352.19000000   \n",
      "13  2023-12-10 05:06:00  2352.19000000  2352.72000000  2352.00000000   \n",
      "..                  ...            ...            ...            ...   \n",
      "494 2023-12-11 05:09:00  2244.80000000  2245.89000000  2244.12000000   \n",
      "495 2023-12-11 05:12:00  2245.69000000  2245.69000000  2243.65000000   \n",
      "496 2023-12-11 05:15:00  2244.91000000  2245.50000000  2243.52000000   \n",
      "497 2023-12-11 05:18:00  2244.27000000  2244.81000000  2239.86000000   \n",
      "498 2023-12-11 05:21:00  2239.87000000  2240.86000000  2236.72000000   \n",
      "\n",
      "             close        volume     close_time quote_asset_volume  \\\n",
      "9    2354.50000000  107.23240000  1702184219999    252456.44387600   \n",
      "10   2354.62000000   90.52930000  1702184399999    213150.98862600   \n",
      "11   2353.87000000  177.97120000  1702184579999    419047.07665200   \n",
      "12   2352.20000000  292.30050000  1702184759999    687822.21717700   \n",
      "13   2352.00000000  141.82050000  1702184939999    333616.21557900   \n",
      "..             ...           ...            ...                ...   \n",
      "494  2245.69000000  440.33160000  1702271519999    988658.32074500   \n",
      "495  2244.91000000  308.87540000  1702271699999    693378.81820500   \n",
      "496  2244.27000000  401.02990000  1702271879999    900233.61345400   \n",
      "497  2239.87000000  595.10110000  1702272059999   1334365.08126800   \n",
      "498  2237.40000000  406.36500000  1702272239999    909926.75856700   \n",
      "\n",
      "     number_of_trades taker_buy_base_asset_volume  \\\n",
      "9                 552                 59.08680000   \n",
      "10                452                 55.06670000   \n",
      "11                799                 95.01690000   \n",
      "12                793                 86.28070000   \n",
      "13                553                 89.07130000   \n",
      "..                ...                         ...   \n",
      "494              1002                257.62660000   \n",
      "495               941                129.06430000   \n",
      "496              1051                191.96230000   \n",
      "497              1372                225.65270000   \n",
      "498              1357                172.57850000   \n",
      "\n",
      "    taker_buy_quote_asset_volume ignore       sma         target  \n",
      "9                139109.27355800      0       NaN  2354.62000000  \n",
      "10               129654.60214900      0       NaN  2353.87000000  \n",
      "11               223725.77880000      0       NaN  2352.20000000  \n",
      "12               203011.32068500      0       NaN  2352.00000000  \n",
      "13               209530.04829500      0       NaN  2353.45000000  \n",
      "..                           ...    ...       ...            ...  \n",
      "494              578424.86101900      0  2240.025  2244.91000000  \n",
      "495              289706.75642500      0  2241.073  2244.27000000  \n",
      "496              430873.92992100      0  2242.204  2239.87000000  \n",
      "497              506021.21814100      0  2242.778  2237.40000000  \n",
      "498              386432.78093600      0  2242.459  2236.50000000  \n",
      "\n",
      "[490 rows x 14 columns]\n"
     ]
    }
   ],
   "source": [
    "print(data)\n"
   ]
  },
  {
   "cell_type": "code",
   "execution_count": 23,
   "id": "326e78c2",
   "metadata": {},
   "outputs": [
    {
     "name": "stderr",
     "output_type": "stream",
     "text": [
      "C:\\Users\\admin\\AppData\\Local\\Temp\\ipykernel_11388\\382399669.py:1: SettingWithCopyWarning: \n",
      "A value is trying to be set on a copy of a slice from a DataFrame.\n",
      "Try using .loc[row_indexer,col_indexer] = value instead\n",
      "\n",
      "See the caveats in the documentation: https://pandas.pydata.org/pandas-docs/stable/user_guide/indexing.html#returning-a-view-versus-a-copy\n",
      "  data['target'] = data['close'].shift(-1)\n"
     ]
    }
   ],
   "source": [
    "data['target'] = data['close'].shift(-1)\n",
    "\n",
    "data = data.dropna()\n"
   ]
  },
  {
   "cell_type": "code",
   "execution_count": 25,
   "id": "e39a8fd2",
   "metadata": {},
   "outputs": [],
   "source": [
    "X = data[['close', 'sma']].values\n",
    "y = data['target'].values"
   ]
  },
  {
   "cell_type": "code",
   "execution_count": 44,
   "id": "02a61a23",
   "metadata": {},
   "outputs": [],
   "source": [
    "X_train, X_test, y_train, y_test = train_test_split(X, y, test_size=0.2, random_state=42)\n"
   ]
  },
  {
   "cell_type": "code",
   "execution_count": 56,
   "id": "83b08ad9",
   "metadata": {
    "scrolled": true
   },
   "outputs": [
    {
     "data": {
      "text/plain": [
       "array([[2243.57 , 2238.929],\n",
       "       [2344.76 , 2343.302],\n",
       "       [2237.4  , 2236.807],\n",
       "       [2236.77 , 2243.325],\n",
       "       [2230.61 , 2290.206],\n",
       "       [2358.79 , 2357.119],\n",
       "       [2353.48 , 2354.973],\n",
       "       [2351.67 , 2352.496],\n",
       "       [2243.63 , 2238.634],\n",
       "       [2349.82 , 2352.32 ],\n",
       "       [2353.72 , 2353.234],\n",
       "       [2336.33 , 2334.71 ],\n",
       "       [2326.6  , 2331.776],\n",
       "       [2348.36 , 2347.39 ],\n",
       "       [2362.93 , 2364.616],\n",
       "       [2346.77 , 2351.951],\n",
       "       [2229.14 , 2269.962],\n",
       "       [2240.59 , 2260.84 ],\n",
       "       [2357.83 , 2362.693],\n",
       "       [2352.11 , 2349.099],\n",
       "       [2342.77 , 2344.178],\n",
       "       [2345.3  , 2345.125],\n",
       "       [2315.   , 2328.632],\n",
       "       [2346.55 , 2347.523],\n",
       "       [2341.22 , 2346.202],\n",
       "       [2342.92 , 2345.242],\n",
       "       [2344.44 , 2342.436],\n",
       "       [2349.22 , 2345.636],\n",
       "       [2357.22 , 2350.627],\n",
       "       [2352.39 , 2350.365],\n",
       "       [2322.62 , 2332.505],\n",
       "       [2337.03 , 2335.487],\n",
       "       [2363.19 , 2358.403],\n",
       "       [2371.19 , 2369.987],\n",
       "       [2350.4  , 2353.551],\n",
       "       [2343.77 , 2349.172],\n",
       "       [2354.5  , 2353.917],\n",
       "       [2354.32 , 2353.076],\n",
       "       [2351.11 , 2352.605],\n",
       "       [2345.97 , 2346.921],\n",
       "       [2334.3  , 2345.62 ],\n",
       "       [2350.89 , 2350.807],\n",
       "       [2330.29 , 2338.022],\n",
       "       [2343.01 , 2341.963],\n",
       "       [2353.41 , 2353.249],\n",
       "       [2345.54 , 2346.121],\n",
       "       [2354.3  , 2354.678],\n",
       "       [2228.9  , 2233.091],\n",
       "       [2244.81 , 2239.381],\n",
       "       [2241.45 , 2237.489],\n",
       "       [2222.2  , 2300.457],\n",
       "       [2350.05 , 2351.438],\n",
       "       [2342.19 , 2343.33 ],\n",
       "       [2356.   , 2353.856],\n",
       "       [2345.2  , 2342.955],\n",
       "       [2344.99 , 2350.208],\n",
       "       [2249.55 , 2251.289],\n",
       "       [2334.64 , 2341.271],\n",
       "       [2367.34 , 2372.361],\n",
       "       [2343.39 , 2339.512],\n",
       "       [2245.69 , 2240.025],\n",
       "       [2205.4  , 2311.369],\n",
       "       [2354.13 , 2351.763],\n",
       "       [2358.11 , 2356.712],\n",
       "       [2362.19 , 2363.364],\n",
       "       [2356.6  , 2351.634],\n",
       "       [2339.07 , 2343.617],\n",
       "       [2346.53 , 2344.222],\n",
       "       [2350.55 , 2350.879],\n",
       "       [2245.32 , 2249.448],\n",
       "       [2334.06 , 2332.287],\n",
       "       [2327.43 , 2329.982],\n",
       "       [2361.36 , 2366.028],\n",
       "       [2241.76 , 2247.793],\n",
       "       [2239.25 , 2240.827],\n",
       "       [2342.71 , 2343.789],\n",
       "       [2351.92 , 2353.745],\n",
       "       [2371.09 , 2360.618],\n",
       "       [2344.17 , 2343.125],\n",
       "       [2338.72 , 2336.859],\n",
       "       [2359.2  , 2356.401],\n",
       "       [2355.79 , 2357.182],\n",
       "       [2351.08 , 2351.393],\n",
       "       [2240.96 , 2237.459],\n",
       "       [2334.91 , 2334.056],\n",
       "       [2360.92 , 2362.359],\n",
       "       [2344.06 , 2343.772],\n",
       "       [2342.56 , 2347.283],\n",
       "       [2238.17 , 2280.454],\n",
       "       [2355.62 , 2354.038],\n",
       "       [2351.32 , 2348.241],\n",
       "       [2351.37 , 2349.54 ],\n",
       "       [2357.05 , 2355.011],\n",
       "       [2369.87 , 2361.944],\n",
       "       [2350.4  , 2349.012],\n",
       "       [2350.41 , 2347.664],\n",
       "       [2357.22 , 2353.971],\n",
       "       [2349.82 , 2350.72 ]], dtype=float32)"
      ]
     },
     "execution_count": 56,
     "metadata": {},
     "output_type": "execute_result"
    }
   ],
   "source": [
    "X_test"
   ]
  },
  {
   "cell_type": "code",
   "execution_count": 39,
   "id": "a4dd3e30",
   "metadata": {},
   "outputs": [
    {
     "name": "stdout",
     "output_type": "stream",
     "text": [
      "WARNING:tensorflow:From C:\\Users\\admin\\anaconda3\\Lib\\site-packages\\keras\\src\\backend.py:873: The name tf.get_default_graph is deprecated. Please use tf.compat.v1.get_default_graph instead.\n",
      "\n"
     ]
    }
   ],
   "source": [
    "model = tf.keras.Sequential([\n",
    "    tf.keras.layers.Dense(units=1, input_shape=(X.shape[1],))\n",
    "])"
   ]
  },
  {
   "cell_type": "code",
   "execution_count": 40,
   "id": "6c4f2747",
   "metadata": {},
   "outputs": [
    {
     "name": "stdout",
     "output_type": "stream",
     "text": [
      "WARNING:tensorflow:From C:\\Users\\admin\\anaconda3\\Lib\\site-packages\\keras\\src\\optimizers\\__init__.py:309: The name tf.train.Optimizer is deprecated. Please use tf.compat.v1.train.Optimizer instead.\n",
      "\n"
     ]
    }
   ],
   "source": [
    "model.compile(optimizer='sgd', loss='mean_squared_error')\n"
   ]
  },
  {
   "cell_type": "code",
   "execution_count": 52,
   "id": "5119b8fa",
   "metadata": {},
   "outputs": [],
   "source": [
    "X_test = X_test.astype(np.float32)\n",
    "y_test = y_test.astype(np.float32)"
   ]
  },
  {
   "cell_type": "code",
   "execution_count": null,
   "id": "17af231f",
   "metadata": {},
   "outputs": [],
   "source": [
    "X_train = X_train.astype(np.float32)\n",
    "y_train = y_train.astype(np.float32)"
   ]
  },
  {
   "cell_type": "code",
   "execution_count": 57,
   "id": "86a327fa",
   "metadata": {},
   "outputs": [
    {
     "name": "stdout",
     "output_type": "stream",
     "text": [
      "Epoch 1/10\n",
      "10/10 [==============================] - 0s 6ms/step - loss: nan - val_loss: nan\n",
      "Epoch 2/10\n",
      "10/10 [==============================] - 0s 3ms/step - loss: nan - val_loss: nan\n",
      "Epoch 3/10\n",
      "10/10 [==============================] - 0s 3ms/step - loss: nan - val_loss: nan\n",
      "Epoch 4/10\n",
      "10/10 [==============================] - 0s 2ms/step - loss: nan - val_loss: nan\n",
      "Epoch 5/10\n",
      "10/10 [==============================] - 0s 4ms/step - loss: nan - val_loss: nan\n",
      "Epoch 6/10\n",
      "10/10 [==============================] - 0s 4ms/step - loss: nan - val_loss: nan\n",
      "Epoch 7/10\n",
      "10/10 [==============================] - 0s 4ms/step - loss: nan - val_loss: nan\n",
      "Epoch 8/10\n",
      "10/10 [==============================] - 0s 3ms/step - loss: nan - val_loss: nan\n",
      "Epoch 9/10\n",
      "10/10 [==============================] - 0s 2ms/step - loss: nan - val_loss: nan\n",
      "Epoch 10/10\n",
      "10/10 [==============================] - 0s 4ms/step - loss: nan - val_loss: nan\n"
     ]
    },
    {
     "data": {
      "text/plain": [
       "<keras.src.callbacks.History at 0x223445bfb50>"
      ]
     },
     "execution_count": 57,
     "metadata": {},
     "output_type": "execute_result"
    }
   ],
   "source": [
    "num_epochs = 10  # Adjust the number of epochs as needed\n",
    "history = model.fit(X_train, y_train, epochs=num_epochs, validation_split=0.2, verbose=1)\n",
    "history"
   ]
  },
  {
   "cell_type": "code",
   "execution_count": 53,
   "id": "535887c2",
   "metadata": {},
   "outputs": [
    {
     "name": "stdout",
     "output_type": "stream",
     "text": [
      "4/4 [==============================] - 0s 2ms/step\n"
     ]
    }
   ],
   "source": [
    "y_pred = model.predict(X_test).flatten()\n"
   ]
  },
  {
   "cell_type": "code",
   "execution_count": 54,
   "id": "83186ab4",
   "metadata": {},
   "outputs": [
    {
     "ename": "ValueError",
     "evalue": "Input contains NaN.",
     "output_type": "error",
     "traceback": [
      "\u001b[1;31m---------------------------------------------------------------------------\u001b[0m",
      "\u001b[1;31mValueError\u001b[0m                                Traceback (most recent call last)",
      "Cell \u001b[1;32mIn[54], line 1\u001b[0m\n\u001b[1;32m----> 1\u001b[0m mse \u001b[38;5;241m=\u001b[39m mean_squared_error(y_test, y_pred)\n\u001b[0;32m      2\u001b[0m \u001b[38;5;28mprint\u001b[39m(\u001b[38;5;124mf\u001b[39m\u001b[38;5;124m'\u001b[39m\u001b[38;5;124mMean Squared Error: \u001b[39m\u001b[38;5;132;01m{\u001b[39;00mmse\u001b[38;5;132;01m}\u001b[39;00m\u001b[38;5;124m'\u001b[39m)\n",
      "File \u001b[1;32m~\\anaconda3\\Lib\\site-packages\\sklearn\\utils\\_param_validation.py:211\u001b[0m, in \u001b[0;36mvalidate_params.<locals>.decorator.<locals>.wrapper\u001b[1;34m(*args, **kwargs)\u001b[0m\n\u001b[0;32m    205\u001b[0m \u001b[38;5;28;01mtry\u001b[39;00m:\n\u001b[0;32m    206\u001b[0m     \u001b[38;5;28;01mwith\u001b[39;00m config_context(\n\u001b[0;32m    207\u001b[0m         skip_parameter_validation\u001b[38;5;241m=\u001b[39m(\n\u001b[0;32m    208\u001b[0m             prefer_skip_nested_validation \u001b[38;5;129;01mor\u001b[39;00m global_skip_validation\n\u001b[0;32m    209\u001b[0m         )\n\u001b[0;32m    210\u001b[0m     ):\n\u001b[1;32m--> 211\u001b[0m         \u001b[38;5;28;01mreturn\u001b[39;00m func(\u001b[38;5;241m*\u001b[39margs, \u001b[38;5;241m*\u001b[39m\u001b[38;5;241m*\u001b[39mkwargs)\n\u001b[0;32m    212\u001b[0m \u001b[38;5;28;01mexcept\u001b[39;00m InvalidParameterError \u001b[38;5;28;01mas\u001b[39;00m e:\n\u001b[0;32m    213\u001b[0m     \u001b[38;5;66;03m# When the function is just a wrapper around an estimator, we allow\u001b[39;00m\n\u001b[0;32m    214\u001b[0m     \u001b[38;5;66;03m# the function to delegate validation to the estimator, but we replace\u001b[39;00m\n\u001b[0;32m    215\u001b[0m     \u001b[38;5;66;03m# the name of the estimator by the name of the function in the error\u001b[39;00m\n\u001b[0;32m    216\u001b[0m     \u001b[38;5;66;03m# message to avoid confusion.\u001b[39;00m\n\u001b[0;32m    217\u001b[0m     msg \u001b[38;5;241m=\u001b[39m re\u001b[38;5;241m.\u001b[39msub(\n\u001b[0;32m    218\u001b[0m         \u001b[38;5;124mr\u001b[39m\u001b[38;5;124m\"\u001b[39m\u001b[38;5;124mparameter of \u001b[39m\u001b[38;5;124m\\\u001b[39m\u001b[38;5;124mw+ must be\u001b[39m\u001b[38;5;124m\"\u001b[39m,\n\u001b[0;32m    219\u001b[0m         \u001b[38;5;124mf\u001b[39m\u001b[38;5;124m\"\u001b[39m\u001b[38;5;124mparameter of \u001b[39m\u001b[38;5;132;01m{\u001b[39;00mfunc\u001b[38;5;241m.\u001b[39m\u001b[38;5;18m__qualname__\u001b[39m\u001b[38;5;132;01m}\u001b[39;00m\u001b[38;5;124m must be\u001b[39m\u001b[38;5;124m\"\u001b[39m,\n\u001b[0;32m    220\u001b[0m         \u001b[38;5;28mstr\u001b[39m(e),\n\u001b[0;32m    221\u001b[0m     )\n",
      "File \u001b[1;32m~\\anaconda3\\Lib\\site-packages\\sklearn\\metrics\\_regression.py:474\u001b[0m, in \u001b[0;36mmean_squared_error\u001b[1;34m(y_true, y_pred, sample_weight, multioutput, squared)\u001b[0m\n\u001b[0;32m    404\u001b[0m \u001b[38;5;129m@validate_params\u001b[39m(\n\u001b[0;32m    405\u001b[0m     {\n\u001b[0;32m    406\u001b[0m         \u001b[38;5;124m\"\u001b[39m\u001b[38;5;124my_true\u001b[39m\u001b[38;5;124m\"\u001b[39m: [\u001b[38;5;124m\"\u001b[39m\u001b[38;5;124marray-like\u001b[39m\u001b[38;5;124m\"\u001b[39m],\n\u001b[1;32m   (...)\u001b[0m\n\u001b[0;32m    415\u001b[0m     y_true, y_pred, \u001b[38;5;241m*\u001b[39m, sample_weight\u001b[38;5;241m=\u001b[39m\u001b[38;5;28;01mNone\u001b[39;00m, multioutput\u001b[38;5;241m=\u001b[39m\u001b[38;5;124m\"\u001b[39m\u001b[38;5;124muniform_average\u001b[39m\u001b[38;5;124m\"\u001b[39m, squared\u001b[38;5;241m=\u001b[39m\u001b[38;5;28;01mTrue\u001b[39;00m\n\u001b[0;32m    416\u001b[0m ):\n\u001b[0;32m    417\u001b[0m \u001b[38;5;250m    \u001b[39m\u001b[38;5;124;03m\"\"\"Mean squared error regression loss.\u001b[39;00m\n\u001b[0;32m    418\u001b[0m \n\u001b[0;32m    419\u001b[0m \u001b[38;5;124;03m    Read more in the :ref:`User Guide <mean_squared_error>`.\u001b[39;00m\n\u001b[1;32m   (...)\u001b[0m\n\u001b[0;32m    472\u001b[0m \u001b[38;5;124;03m    0.825...\u001b[39;00m\n\u001b[0;32m    473\u001b[0m \u001b[38;5;124;03m    \"\"\"\u001b[39;00m\n\u001b[1;32m--> 474\u001b[0m     y_type, y_true, y_pred, multioutput \u001b[38;5;241m=\u001b[39m _check_reg_targets(\n\u001b[0;32m    475\u001b[0m         y_true, y_pred, multioutput\n\u001b[0;32m    476\u001b[0m     )\n\u001b[0;32m    477\u001b[0m     check_consistent_length(y_true, y_pred, sample_weight)\n\u001b[0;32m    478\u001b[0m     output_errors \u001b[38;5;241m=\u001b[39m np\u001b[38;5;241m.\u001b[39maverage((y_true \u001b[38;5;241m-\u001b[39m y_pred) \u001b[38;5;241m*\u001b[39m\u001b[38;5;241m*\u001b[39m \u001b[38;5;241m2\u001b[39m, axis\u001b[38;5;241m=\u001b[39m\u001b[38;5;241m0\u001b[39m, weights\u001b[38;5;241m=\u001b[39msample_weight)\n",
      "File \u001b[1;32m~\\anaconda3\\Lib\\site-packages\\sklearn\\metrics\\_regression.py:101\u001b[0m, in \u001b[0;36m_check_reg_targets\u001b[1;34m(y_true, y_pred, multioutput, dtype)\u001b[0m\n\u001b[0;32m     99\u001b[0m check_consistent_length(y_true, y_pred)\n\u001b[0;32m    100\u001b[0m y_true \u001b[38;5;241m=\u001b[39m check_array(y_true, ensure_2d\u001b[38;5;241m=\u001b[39m\u001b[38;5;28;01mFalse\u001b[39;00m, dtype\u001b[38;5;241m=\u001b[39mdtype)\n\u001b[1;32m--> 101\u001b[0m y_pred \u001b[38;5;241m=\u001b[39m check_array(y_pred, ensure_2d\u001b[38;5;241m=\u001b[39m\u001b[38;5;28;01mFalse\u001b[39;00m, dtype\u001b[38;5;241m=\u001b[39mdtype)\n\u001b[0;32m    103\u001b[0m \u001b[38;5;28;01mif\u001b[39;00m y_true\u001b[38;5;241m.\u001b[39mndim \u001b[38;5;241m==\u001b[39m \u001b[38;5;241m1\u001b[39m:\n\u001b[0;32m    104\u001b[0m     y_true \u001b[38;5;241m=\u001b[39m y_true\u001b[38;5;241m.\u001b[39mreshape((\u001b[38;5;241m-\u001b[39m\u001b[38;5;241m1\u001b[39m, \u001b[38;5;241m1\u001b[39m))\n",
      "File \u001b[1;32m~\\anaconda3\\Lib\\site-packages\\sklearn\\utils\\validation.py:959\u001b[0m, in \u001b[0;36mcheck_array\u001b[1;34m(array, accept_sparse, accept_large_sparse, dtype, order, copy, force_all_finite, ensure_2d, allow_nd, ensure_min_samples, ensure_min_features, estimator, input_name)\u001b[0m\n\u001b[0;32m    953\u001b[0m         \u001b[38;5;28;01mraise\u001b[39;00m \u001b[38;5;167;01mValueError\u001b[39;00m(\n\u001b[0;32m    954\u001b[0m             \u001b[38;5;124m\"\u001b[39m\u001b[38;5;124mFound array with dim \u001b[39m\u001b[38;5;132;01m%d\u001b[39;00m\u001b[38;5;124m. \u001b[39m\u001b[38;5;132;01m%s\u001b[39;00m\u001b[38;5;124m expected <= 2.\u001b[39m\u001b[38;5;124m\"\u001b[39m\n\u001b[0;32m    955\u001b[0m             \u001b[38;5;241m%\u001b[39m (array\u001b[38;5;241m.\u001b[39mndim, estimator_name)\n\u001b[0;32m    956\u001b[0m         )\n\u001b[0;32m    958\u001b[0m     \u001b[38;5;28;01mif\u001b[39;00m force_all_finite:\n\u001b[1;32m--> 959\u001b[0m         _assert_all_finite(\n\u001b[0;32m    960\u001b[0m             array,\n\u001b[0;32m    961\u001b[0m             input_name\u001b[38;5;241m=\u001b[39minput_name,\n\u001b[0;32m    962\u001b[0m             estimator_name\u001b[38;5;241m=\u001b[39mestimator_name,\n\u001b[0;32m    963\u001b[0m             allow_nan\u001b[38;5;241m=\u001b[39mforce_all_finite \u001b[38;5;241m==\u001b[39m \u001b[38;5;124m\"\u001b[39m\u001b[38;5;124mallow-nan\u001b[39m\u001b[38;5;124m\"\u001b[39m,\n\u001b[0;32m    964\u001b[0m         )\n\u001b[0;32m    966\u001b[0m \u001b[38;5;28;01mif\u001b[39;00m ensure_min_samples \u001b[38;5;241m>\u001b[39m \u001b[38;5;241m0\u001b[39m:\n\u001b[0;32m    967\u001b[0m     n_samples \u001b[38;5;241m=\u001b[39m _num_samples(array)\n",
      "File \u001b[1;32m~\\anaconda3\\Lib\\site-packages\\sklearn\\utils\\validation.py:124\u001b[0m, in \u001b[0;36m_assert_all_finite\u001b[1;34m(X, allow_nan, msg_dtype, estimator_name, input_name)\u001b[0m\n\u001b[0;32m    121\u001b[0m \u001b[38;5;28;01mif\u001b[39;00m first_pass_isfinite:\n\u001b[0;32m    122\u001b[0m     \u001b[38;5;28;01mreturn\u001b[39;00m\n\u001b[1;32m--> 124\u001b[0m _assert_all_finite_element_wise(\n\u001b[0;32m    125\u001b[0m     X,\n\u001b[0;32m    126\u001b[0m     xp\u001b[38;5;241m=\u001b[39mxp,\n\u001b[0;32m    127\u001b[0m     allow_nan\u001b[38;5;241m=\u001b[39mallow_nan,\n\u001b[0;32m    128\u001b[0m     msg_dtype\u001b[38;5;241m=\u001b[39mmsg_dtype,\n\u001b[0;32m    129\u001b[0m     estimator_name\u001b[38;5;241m=\u001b[39mestimator_name,\n\u001b[0;32m    130\u001b[0m     input_name\u001b[38;5;241m=\u001b[39minput_name,\n\u001b[0;32m    131\u001b[0m )\n",
      "File \u001b[1;32m~\\anaconda3\\Lib\\site-packages\\sklearn\\utils\\validation.py:173\u001b[0m, in \u001b[0;36m_assert_all_finite_element_wise\u001b[1;34m(X, xp, allow_nan, msg_dtype, estimator_name, input_name)\u001b[0m\n\u001b[0;32m    156\u001b[0m \u001b[38;5;28;01mif\u001b[39;00m estimator_name \u001b[38;5;129;01mand\u001b[39;00m input_name \u001b[38;5;241m==\u001b[39m \u001b[38;5;124m\"\u001b[39m\u001b[38;5;124mX\u001b[39m\u001b[38;5;124m\"\u001b[39m \u001b[38;5;129;01mand\u001b[39;00m has_nan_error:\n\u001b[0;32m    157\u001b[0m     \u001b[38;5;66;03m# Improve the error message on how to handle missing values in\u001b[39;00m\n\u001b[0;32m    158\u001b[0m     \u001b[38;5;66;03m# scikit-learn.\u001b[39;00m\n\u001b[0;32m    159\u001b[0m     msg_err \u001b[38;5;241m+\u001b[39m\u001b[38;5;241m=\u001b[39m (\n\u001b[0;32m    160\u001b[0m         \u001b[38;5;124mf\u001b[39m\u001b[38;5;124m\"\u001b[39m\u001b[38;5;130;01m\\n\u001b[39;00m\u001b[38;5;132;01m{\u001b[39;00mestimator_name\u001b[38;5;132;01m}\u001b[39;00m\u001b[38;5;124m does not accept missing values\u001b[39m\u001b[38;5;124m\"\u001b[39m\n\u001b[0;32m    161\u001b[0m         \u001b[38;5;124m\"\u001b[39m\u001b[38;5;124m encoded as NaN natively. For supervised learning, you might want\u001b[39m\u001b[38;5;124m\"\u001b[39m\n\u001b[1;32m   (...)\u001b[0m\n\u001b[0;32m    171\u001b[0m         \u001b[38;5;124m\"\u001b[39m\u001b[38;5;124m#estimators-that-handle-nan-values\u001b[39m\u001b[38;5;124m\"\u001b[39m\n\u001b[0;32m    172\u001b[0m     )\n\u001b[1;32m--> 173\u001b[0m \u001b[38;5;28;01mraise\u001b[39;00m \u001b[38;5;167;01mValueError\u001b[39;00m(msg_err)\n",
      "\u001b[1;31mValueError\u001b[0m: Input contains NaN."
     ]
    }
   ],
   "source": [
    "mse = mean_squared_error(y_test, y_pred)\n",
    "print(f'Mean Squared Error: {mse}')"
   ]
  },
  {
   "cell_type": "code",
   "execution_count": null,
   "id": "22ac6cc7",
   "metadata": {},
   "outputs": [],
   "source": []
  }
 ],
 "metadata": {
  "kernelspec": {
   "display_name": "Python 3 (ipykernel)",
   "language": "python",
   "name": "python3"
  },
  "language_info": {
   "codemirror_mode": {
    "name": "ipython",
    "version": 3
   },
   "file_extension": ".py",
   "mimetype": "text/x-python",
   "name": "python",
   "nbconvert_exporter": "python",
   "pygments_lexer": "ipython3",
   "version": "3.11.5"
  }
 },
 "nbformat": 4,
 "nbformat_minor": 5
}
