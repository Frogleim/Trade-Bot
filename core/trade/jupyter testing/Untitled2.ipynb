{
 "cells": [
  {
   "cell_type": "code",
   "execution_count": 1,
   "id": "329b4abd",
   "metadata": {},
   "outputs": [],
   "source": [
    "from binance.client import Client"
   ]
  },
  {
   "cell_type": "code",
   "execution_count": 2,
   "id": "47652867",
   "metadata": {},
   "outputs": [],
   "source": [
    "api_key = 'iyJXPaZztWrimkH6V57RGvStFgYQWRaaMdaYBQHHIEv0mMY1huCmrzTbXkaBjLFh'\n",
    "\n",
    "api_secret = 'hmrus7zI9PW2EXqsDVovoS2cEFRVsxeETGgBf4XJInOLFcmIXKNL23alGRNRbXKI'\n",
    "client = Client(api_key, api_secret)\n"
   ]
  },
  {
   "cell_type": "code",
   "execution_count": 23,
   "id": "19a8964f",
   "metadata": {},
   "outputs": [
    {
     "data": {
      "text/plain": [
       "[{'symbol': 'ETHUSDT',\n",
       "  'id': 3435019995,\n",
       "  'orderId': 8389765635079395648,\n",
       "  'side': 'BUY',\n",
       "  'price': '2325.55',\n",
       "  'qty': '0.040',\n",
       "  'realizedPnl': '-1.43840000',\n",
       "  'marginAsset': 'USDT',\n",
       "  'quoteQty': '93.02200',\n",
       "  'commission': '0',\n",
       "  'commissionAsset': 'USDT',\n",
       "  'time': 1702595263241,\n",
       "  'positionSide': 'BOTH',\n",
       "  'buyer': True,\n",
       "  'maker': False},\n",
       " {'symbol': 'ETHUSDT',\n",
       "  'id': 3435534709,\n",
       "  'orderId': 8389765635133953375,\n",
       "  'side': 'SELL',\n",
       "  'price': '2281.91',\n",
       "  'qty': '0.020',\n",
       "  'realizedPnl': '0',\n",
       "  'marginAsset': 'USDT',\n",
       "  'quoteQty': '45.63820',\n",
       "  'commission': '0.00912763',\n",
       "  'commissionAsset': 'USDT',\n",
       "  'time': 1702616391292,\n",
       "  'positionSide': 'BOTH',\n",
       "  'buyer': False,\n",
       "  'maker': True},\n",
       " {'symbol': 'ETHUSDT',\n",
       "  'id': 3435538329,\n",
       "  'orderId': 8389765635134223141,\n",
       "  'side': 'BUY',\n",
       "  'price': '2279.23',\n",
       "  'qty': '0.020',\n",
       "  'realizedPnl': '0.05360000',\n",
       "  'marginAsset': 'USDT',\n",
       "  'quoteQty': '45.58460',\n",
       "  'commission': '0.02279230',\n",
       "  'commissionAsset': 'USDT',\n",
       "  'time': 1702616483897,\n",
       "  'positionSide': 'BOTH',\n",
       "  'buyer': True,\n",
       "  'maker': False},\n",
       " {'symbol': 'ETHUSDT',\n",
       "  'id': 3435611836,\n",
       "  'orderId': 8389765635139067757,\n",
       "  'side': 'SELL',\n",
       "  'price': '2270.47',\n",
       "  'qty': '0.022',\n",
       "  'realizedPnl': '0',\n",
       "  'marginAsset': 'USDT',\n",
       "  'quoteQty': '49.95034',\n",
       "  'commission': '0.02497517',\n",
       "  'commissionAsset': 'USDT',\n",
       "  'time': 1702618585448,\n",
       "  'positionSide': 'BOTH',\n",
       "  'buyer': False,\n",
       "  'maker': False},\n",
       " {'symbol': 'ETHUSDT',\n",
       "  'id': 3435616099,\n",
       "  'orderId': 8389765635139342972,\n",
       "  'side': 'BUY',\n",
       "  'price': '2267.33',\n",
       "  'qty': '0.022',\n",
       "  'realizedPnl': '0.06907999',\n",
       "  'marginAsset': 'USDT',\n",
       "  'quoteQty': '49.88126',\n",
       "  'commission': '0.02494063',\n",
       "  'commissionAsset': 'USDT',\n",
       "  'time': 1702618673887,\n",
       "  'positionSide': 'BOTH',\n",
       "  'buyer': True,\n",
       "  'maker': False},\n",
       " {'symbol': 'ETHUSDT',\n",
       "  'id': 3435685379,\n",
       "  'orderId': 8389765635144490070,\n",
       "  'side': 'BUY',\n",
       "  'price': '2268.36',\n",
       "  'qty': '0.024',\n",
       "  'realizedPnl': '0',\n",
       "  'marginAsset': 'USDT',\n",
       "  'quoteQty': '54.44064',\n",
       "  'commission': '0.01088812',\n",
       "  'commissionAsset': 'USDT',\n",
       "  'time': 1702620649040,\n",
       "  'positionSide': 'BOTH',\n",
       "  'buyer': True,\n",
       "  'maker': True},\n",
       " {'symbol': 'ETHUSDT',\n",
       "  'id': 3435829395,\n",
       "  'orderId': 8389765635158871350,\n",
       "  'side': 'SELL',\n",
       "  'price': '2270.74',\n",
       "  'qty': '0.024',\n",
       "  'realizedPnl': '0.05712000',\n",
       "  'marginAsset': 'USDT',\n",
       "  'quoteQty': '54.49776',\n",
       "  'commission': '0.02724888',\n",
       "  'commissionAsset': 'USDT',\n",
       "  'time': 1702626908917,\n",
       "  'positionSide': 'BOTH',\n",
       "  'buyer': False,\n",
       "  'maker': False},\n",
       " {'symbol': 'ETHUSDT',\n",
       "  'id': 3435882992,\n",
       "  'orderId': 8389765635162870340,\n",
       "  'side': 'BUY',\n",
       "  'price': '2269.73',\n",
       "  'qty': '0.026',\n",
       "  'realizedPnl': '0',\n",
       "  'marginAsset': 'USDT',\n",
       "  'quoteQty': '59.01298',\n",
       "  'commission': '0.01180259',\n",
       "  'commissionAsset': 'USDT',\n",
       "  'time': 1702628917659,\n",
       "  'positionSide': 'BOTH',\n",
       "  'buyer': True,\n",
       "  'maker': True},\n",
       " {'symbol': 'ETHUSDT',\n",
       "  'id': 3435894080,\n",
       "  'orderId': 8389765635164397010,\n",
       "  'side': 'SELL',\n",
       "  'price': '2272.08',\n",
       "  'qty': '0.026',\n",
       "  'realizedPnl': '0.06110000',\n",
       "  'marginAsset': 'USDT',\n",
       "  'quoteQty': '59.07408',\n",
       "  'commission': '0.02953704',\n",
       "  'commissionAsset': 'USDT',\n",
       "  'time': 1702629656856,\n",
       "  'positionSide': 'BOTH',\n",
       "  'buyer': False,\n",
       "  'maker': False},\n",
       " {'symbol': 'ETHUSDT',\n",
       "  'id': 3435953594,\n",
       "  'orderId': 8389765635169355824,\n",
       "  'side': 'SELL',\n",
       "  'price': '2285.42',\n",
       "  'qty': '0.029',\n",
       "  'realizedPnl': '0',\n",
       "  'marginAsset': 'USDT',\n",
       "  'quoteQty': '66.27718',\n",
       "  'commission': '0.01325543',\n",
       "  'commissionAsset': 'USDT',\n",
       "  'time': 1702631633566,\n",
       "  'positionSide': 'BOTH',\n",
       "  'buyer': False,\n",
       "  'maker': True}]"
      ]
     },
     "execution_count": 23,
     "metadata": {},
     "output_type": "execute_result"
    }
   ],
   "source": [
    "trades = client.futures_account_trades()[-10:]\n",
    "trades"
   ]
  },
  {
   "cell_type": "code",
   "execution_count": 26,
   "id": "f6ec6b9b",
   "metadata": {},
   "outputs": [
    {
     "name": "stdout",
     "output_type": "stream",
     "text": [
      "0.05712000\n",
      "0.02724888\n",
      "0.029871119999999998\n",
      "0\n",
      "0.01180259\n",
      "-0.01180259\n",
      "0.06110000\n",
      "0.02953704\n",
      "0.03156296\n",
      "0\n",
      "0.01325543\n",
      "-0.01325543\n"
     ]
    }
   ],
   "source": [
    "for trade in trades[-4:]:\n",
    "    print(trade['realizedPnl'])\n",
    "    print(trade['commission'])\n",
    "    clean_profit = float(trade['realizedPnl']) - float(trade['commission'])\n",
    "    print(clean_profit)"
   ]
  },
  {
   "cell_type": "code",
   "execution_count": 17,
   "id": "bd795730",
   "metadata": {},
   "outputs": [],
   "source": [
    "from datetime import datetime\n"
   ]
  },
  {
   "cell_type": "code",
   "execution_count": 19,
   "id": "c2a4666e",
   "metadata": {},
   "outputs": [
    {
     "name": "stdout",
     "output_type": "stream",
     "text": [
      "2023-12-15 09:13:53\n"
     ]
    }
   ],
   "source": [
    "timestamp_seconds = trades[-1]['time'] / 1000.0  # Convert milliseconds to seconds\n",
    "datetime_object = datetime.utcfromtimestamp(timestamp_seconds)\n",
    "\n",
    "# Format the datetime object as a string\n",
    "formatted_time = datetime_object.strftime('%Y-%m-%d %H:%M:%S')\n",
    "\n",
    "print(formatted_time)"
   ]
  },
  {
   "cell_type": "code",
   "execution_count": null,
   "id": "b49c93af",
   "metadata": {},
   "outputs": [],
   "source": []
  },
  {
   "cell_type": "code",
   "execution_count": null,
   "id": "4361e68a",
   "metadata": {},
   "outputs": [],
   "source": []
  },
  {
   "cell_type": "code",
   "execution_count": null,
   "id": "112bfaf8",
   "metadata": {},
   "outputs": [],
   "source": []
  },
  {
   "cell_type": "code",
   "execution_count": 15,
   "id": "3af5c4ca",
   "metadata": {},
   "outputs": [],
   "source": [
    "symbol='ETHUSDT'\n",
    "open_orders = client.futures_get_open_orders(symbol=symbol)\n"
   ]
  },
  {
   "cell_type": "code",
   "execution_count": 16,
   "id": "b9387fd2",
   "metadata": {},
   "outputs": [
    {
     "data": {
      "text/plain": [
       "{'orderId': 8389765634407711045,\n",
       " 'symbol': 'ETHUSDT',\n",
       " 'status': 'NEW',\n",
       " 'clientOrderId': 'q0opsaqWYO45mClYm0ma2D',\n",
       " 'price': '2000',\n",
       " 'avgPrice': '0',\n",
       " 'origQty': '0.020',\n",
       " 'executedQty': '0',\n",
       " 'cumQuote': '0.00000',\n",
       " 'timeInForce': 'GTC',\n",
       " 'type': 'LIMIT',\n",
       " 'reduceOnly': False,\n",
       " 'closePosition': False,\n",
       " 'side': 'BUY',\n",
       " 'positionSide': 'BOTH',\n",
       " 'stopPrice': '0',\n",
       " 'workingType': 'CONTRACT_PRICE',\n",
       " 'priceProtect': False,\n",
       " 'origType': 'LIMIT',\n",
       " 'priceMatch': 'NONE',\n",
       " 'selfTradePreventionMode': 'NONE',\n",
       " 'goodTillDate': 0,\n",
       " 'time': 1702377384553,\n",
       " 'updateTime': 1702377384553}"
      ]
     },
     "execution_count": 16,
     "metadata": {},
     "output_type": "execute_result"
    }
   ],
   "source": [
    "open_orders[0]"
   ]
  },
  {
   "cell_type": "code",
   "execution_count": 11,
   "id": "d4105471",
   "metadata": {},
   "outputs": [],
   "source": [
    "position_info = client.futures_position_information(symbol=symbol)\n"
   ]
  },
  {
   "cell_type": "code",
   "execution_count": null,
   "id": "5878b612",
   "metadata": {},
   "outputs": [],
   "source": [
    "def place_sell_order(price, quantity, symbol):\n",
    "    client = Client(api_key=api_key, api_secret=api_secret)\n",
    "\n",
    "    order = client.futures_create_order(\n",
    "        symbol=symbol,\n",
    "        side='SELL',\n",
    "        type='LIMIT',\n",
    "        timeInForce='GTC',  # Good 'til canceled\n",
    "        quantity=quantity,\n",
    "        price=price\n",
    "    )\n",
    "\n",
    "    print(\"Buy order placed successfully:\")\n",
    "    return order['price']"
   ]
  },
  {
   "cell_type": "code",
   "execution_count": 12,
   "id": "719a0ebc",
   "metadata": {},
   "outputs": [
    {
     "data": {
      "text/plain": [
       "[{'symbol': 'ETHUSDT',\n",
       "  'positionAmt': '0.099',\n",
       "  'entryPrice': '2237.48',\n",
       "  'breakEvenPrice': '2238.59874',\n",
       "  'markPrice': '2230.33000000',\n",
       "  'unRealizedProfit': '-0.70785000',\n",
       "  'liquidationPrice': '2194.73074981',\n",
       "  'leverage': '100',\n",
       "  'maxNotionalValue': '200000',\n",
       "  'marginType': 'cross',\n",
       "  'isolatedMargin': '0.00000000',\n",
       "  'isAutoAddMargin': 'false',\n",
       "  'positionSide': 'BOTH',\n",
       "  'notional': '220.80267000',\n",
       "  'isolatedWallet': '0',\n",
       "  'updateTime': 1702367506615,\n",
       "  'isolated': False,\n",
       "  'adlQuantile': 2}]"
      ]
     },
     "execution_count": 12,
     "metadata": {},
     "output_type": "execute_result"
    }
   ],
   "source": [
    "position_info"
   ]
  },
  {
   "cell_type": "code",
   "execution_count": 20,
   "id": "2d457756",
   "metadata": {},
   "outputs": [],
   "source": [
    "order = client.futures_get_order(symbol=symbol, orderId=8389765634413447578)"
   ]
  },
  {
   "cell_type": "code",
   "execution_count": 24,
   "id": "bf86f0b9",
   "metadata": {},
   "outputs": [
    {
     "data": {
      "text/plain": [
       "{'orderId': 8389765634413447578,\n",
       " 'symbol': 'ETHUSDT',\n",
       " 'status': 'NEW',\n",
       " 'clientOrderId': 'EhGh7KVwTjFLCwE5BGNmxW',\n",
       " 'price': '1500.00',\n",
       " 'avgPrice': '0.00',\n",
       " 'origQty': '0.020',\n",
       " 'executedQty': '0.000',\n",
       " 'cumQuote': '0.00000',\n",
       " 'timeInForce': 'GTC',\n",
       " 'type': 'LIMIT',\n",
       " 'reduceOnly': False,\n",
       " 'closePosition': False,\n",
       " 'side': 'BUY',\n",
       " 'positionSide': 'BOTH',\n",
       " 'stopPrice': '0.00',\n",
       " 'workingType': 'CONTRACT_PRICE',\n",
       " 'priceProtect': False,\n",
       " 'origType': 'LIMIT',\n",
       " 'priceMatch': 'NONE',\n",
       " 'selfTradePreventionMode': 'NONE',\n",
       " 'goodTillDate': 0,\n",
       " 'time': 1702379666217,\n",
       " 'updateTime': 1702379666217}"
      ]
     },
     "execution_count": 24,
     "metadata": {},
     "output_type": "execute_result"
    }
   ],
   "source": [
    "order"
   ]
  },
  {
   "cell_type": "code",
   "execution_count": 26,
   "id": "3676fda7",
   "metadata": {},
   "outputs": [
    {
     "data": {
      "text/plain": [
       "int"
      ]
     },
     "execution_count": 26,
     "metadata": {},
     "output_type": "execute_result"
    }
   ],
   "source": [
    "type(order['orderId'])"
   ]
  },
  {
   "cell_type": "code",
   "execution_count": 19,
   "id": "db79fd26",
   "metadata": {},
   "outputs": [
    {
     "data": {
      "text/plain": [
       "{'orderId': 8389765634407711045,\n",
       " 'symbol': 'ETHUSDT',\n",
       " 'status': 'CANCELED',\n",
       " 'clientOrderId': 'q0opsaqWYO45mClYm0ma2D',\n",
       " 'price': '2000.00',\n",
       " 'avgPrice': '0.00',\n",
       " 'origQty': '0.020',\n",
       " 'executedQty': '0.000',\n",
       " 'cumQty': '0.000',\n",
       " 'cumQuote': '0.00000',\n",
       " 'timeInForce': 'GTC',\n",
       " 'type': 'LIMIT',\n",
       " 'reduceOnly': False,\n",
       " 'closePosition': False,\n",
       " 'side': 'BUY',\n",
       " 'positionSide': 'BOTH',\n",
       " 'stopPrice': '0.00',\n",
       " 'workingType': 'CONTRACT_PRICE',\n",
       " 'priceProtect': False,\n",
       " 'origType': 'LIMIT',\n",
       " 'priceMatch': 'NONE',\n",
       " 'selfTradePreventionMode': 'NONE',\n",
       " 'goodTillDate': 0,\n",
       " 'updateTime': 1702377793111}"
      ]
     },
     "execution_count": 19,
     "metadata": {},
     "output_type": "execute_result"
    }
   ],
   "source": [
    "client.futures_cancel_order(symbol=symbol, orderId=8389765634407711045)"
   ]
  },
  {
   "cell_type": "code",
   "execution_count": 25,
   "id": "02c51be9",
   "metadata": {},
   "outputs": [
    {
     "ename": "NameError",
     "evalue": "name 'orderId' is not defined",
     "output_type": "error",
     "traceback": [
      "\u001b[1;31m---------------------------------------------------------------------------\u001b[0m",
      "\u001b[1;31mNameError\u001b[0m                                 Traceback (most recent call last)",
      "Cell \u001b[1;32mIn[25], line 1\u001b[0m\n\u001b[1;32m----> 1\u001b[0m \u001b[38;5;28mtype\u001b[39m(orderId)\n",
      "\u001b[1;31mNameError\u001b[0m: name 'orderId' is not defined"
     ]
    }
   ],
   "source": [
    "type(orderId)"
   ]
  },
  {
   "cell_type": "code",
   "execution_count": null,
   "id": "45bd56f5",
   "metadata": {},
   "outputs": [],
   "source": [
    "open_orders = client.futures_get_order(symbol=config.trading_pair, orderId=order_info['orderId'])\n"
   ]
  }
 ],
 "metadata": {
  "kernelspec": {
   "display_name": "Python 3 (ipykernel)",
   "language": "python",
   "name": "python3"
  },
  "language_info": {
   "codemirror_mode": {
    "name": "ipython",
    "version": 3
   },
   "file_extension": ".py",
   "mimetype": "text/x-python",
   "name": "python",
   "nbconvert_exporter": "python",
   "pygments_lexer": "ipython3",
   "version": "3.11.5"
  }
 },
 "nbformat": 4,
 "nbformat_minor": 5
}
